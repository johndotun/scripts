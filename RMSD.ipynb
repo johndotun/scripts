{
 "cells": [
  {
   "cell_type": "code",
   "execution_count": 1,
   "metadata": {},
   "outputs": [],
   "source": [
    "import MDAnalysis as mda\n",
    "#from MDAnalysis.tests.datafiles import PSF, DCD, CRD\n",
    "from MDAnalysis.analysis import rms\n",
    "\n",
    "import pandas as pd\n",
    "# the next line is necessary to display plots in Jupyter\n",
    "%matplotlib inline"
   ]
  },
  {
   "cell_type": "code",
   "execution_count": 2,
   "metadata": {},
   "outputs": [],
   "source": [
    "u = mda.Universe('step3_charmm2namd.psf', 'step5_2.dcd')  \n",
    "ref = mda.Universe('step3_charmm2namd.psf', 'step3_charmm2namd.pdb')  "
   ]
  },
  {
   "cell_type": "markdown",
   "metadata": {},
   "source": [
    "# RMSD between 2 sets of coordinates"
   ]
  },
  {
   "cell_type": "code",
   "execution_count": 3,
   "metadata": {},
   "outputs": [
    {
     "data": {
      "text/plain": [
       "5.557693516037471"
      ]
     },
     "execution_count": 3,
     "metadata": {},
     "output_type": "execute_result"
    }
   ],
   "source": [
    "rms.rmsd(u.select_atoms('backbone').positions,  # coordinates to align\n",
    "         ref.select_atoms('backbone').positions,  # reference coordinates\n",
    "         center=True,  # subtract the center of geometry\n",
    "         superposition=True)  # superimpose coordinates"
   ]
  },
  {
   "cell_type": "markdown",
   "metadata": {},
   "source": [
    "# RMSD for multiple selelction"
   ]
  },
  {
   "cell_type": "code",
   "execution_count": 4,
   "metadata": {},
   "outputs": [],
   "source": [
    "CORE = 'backbone and (resid 1-29 or resid 60-121 or resid 160-214)'\n",
    "LID = 'backbone and resid 122-159'\n",
    "NMP = 'backbone and resid 30-59'"
   ]
  },
  {
   "cell_type": "code",
   "execution_count": 5,
   "metadata": {},
   "outputs": [
    {
     "name": "stderr",
     "output_type": "stream",
     "text": [
      "/home/alaooj/anaconda3/lib/python3.8/site-packages/MDAnalysis/analysis/rms.py:255: RuntimeWarning: invalid value encountered in double_scalars\n",
      "  return np.sqrt(np.sum((a - b) ** 2) / N)\n"
     ]
    },
    {
     "data": {
      "text/plain": [
       "<MDAnalysis.analysis.rms.RMSD at 0x7fef5cdc7460>"
      ]
     },
     "execution_count": 5,
     "metadata": {},
     "output_type": "execute_result"
    }
   ],
   "source": [
    "R = rms.RMSD(u,  # universe to align\n",
    "             u,  # reference universe or atomgroup\n",
    "             select='backbone',  # group to superimpose and calculate RMSD\n",
    "             groupselections=[CORE, LID, NMP],  # groups for RMSD\n",
    "             ref_frame=0)  # frame index of the reference\n",
    "R.run()"
   ]
  },
  {
   "cell_type": "code",
   "execution_count": 6,
   "metadata": {},
   "outputs": [
    {
     "data": {
      "text/plain": [
       "(10, 6)"
      ]
     },
     "execution_count": 6,
     "metadata": {},
     "output_type": "execute_result"
    }
   ],
   "source": [
    "R.rmsd.shape"
   ]
  },
  {
   "cell_type": "code",
   "execution_count": 7,
   "metadata": {},
   "outputs": [
    {
     "data": {
      "text/html": [
       "<div>\n",
       "<style scoped>\n",
       "    .dataframe tbody tr th:only-of-type {\n",
       "        vertical-align: middle;\n",
       "    }\n",
       "\n",
       "    .dataframe tbody tr th {\n",
       "        vertical-align: top;\n",
       "    }\n",
       "\n",
       "    .dataframe thead th {\n",
       "        text-align: right;\n",
       "    }\n",
       "</style>\n",
       "<table border=\"1\" class=\"dataframe\">\n",
       "  <thead>\n",
       "    <tr style=\"text-align: right;\">\n",
       "      <th></th>\n",
       "      <th>Frame</th>\n",
       "      <th>Time (ns)</th>\n",
       "      <th>Backbone</th>\n",
       "      <th>CORE</th>\n",
       "      <th>LID</th>\n",
       "      <th>NMP</th>\n",
       "    </tr>\n",
       "  </thead>\n",
       "  <tbody>\n",
       "    <tr>\n",
       "      <th>0</th>\n",
       "      <td>0.0</td>\n",
       "      <td>100.000000</td>\n",
       "      <td>0.000001</td>\n",
       "      <td>0.000001</td>\n",
       "      <td>0.000001</td>\n",
       "      <td>NaN</td>\n",
       "    </tr>\n",
       "    <tr>\n",
       "      <th>1</th>\n",
       "      <td>1.0</td>\n",
       "      <td>200.000001</td>\n",
       "      <td>2.346296</td>\n",
       "      <td>2.149729</td>\n",
       "      <td>1.675609</td>\n",
       "      <td>NaN</td>\n",
       "    </tr>\n",
       "    <tr>\n",
       "      <th>2</th>\n",
       "      <td>2.0</td>\n",
       "      <td>300.000001</td>\n",
       "      <td>2.906242</td>\n",
       "      <td>2.331422</td>\n",
       "      <td>1.837289</td>\n",
       "      <td>NaN</td>\n",
       "    </tr>\n",
       "    <tr>\n",
       "      <th>3</th>\n",
       "      <td>3.0</td>\n",
       "      <td>400.000001</td>\n",
       "      <td>3.840399</td>\n",
       "      <td>3.085732</td>\n",
       "      <td>3.280397</td>\n",
       "      <td>NaN</td>\n",
       "    </tr>\n",
       "    <tr>\n",
       "      <th>4</th>\n",
       "      <td>4.0</td>\n",
       "      <td>500.000001</td>\n",
       "      <td>3.977046</td>\n",
       "      <td>2.188365</td>\n",
       "      <td>2.392543</td>\n",
       "      <td>NaN</td>\n",
       "    </tr>\n",
       "    <tr>\n",
       "      <th>5</th>\n",
       "      <td>5.0</td>\n",
       "      <td>600.000002</td>\n",
       "      <td>4.353016</td>\n",
       "      <td>3.085668</td>\n",
       "      <td>3.404694</td>\n",
       "      <td>NaN</td>\n",
       "    </tr>\n",
       "    <tr>\n",
       "      <th>6</th>\n",
       "      <td>6.0</td>\n",
       "      <td>700.000002</td>\n",
       "      <td>4.481059</td>\n",
       "      <td>3.064473</td>\n",
       "      <td>3.115445</td>\n",
       "      <td>NaN</td>\n",
       "    </tr>\n",
       "    <tr>\n",
       "      <th>7</th>\n",
       "      <td>7.0</td>\n",
       "      <td>800.000002</td>\n",
       "      <td>4.307486</td>\n",
       "      <td>3.992661</td>\n",
       "      <td>3.394916</td>\n",
       "      <td>NaN</td>\n",
       "    </tr>\n",
       "    <tr>\n",
       "      <th>8</th>\n",
       "      <td>8.0</td>\n",
       "      <td>900.000003</td>\n",
       "      <td>4.786702</td>\n",
       "      <td>4.524129</td>\n",
       "      <td>3.722748</td>\n",
       "      <td>NaN</td>\n",
       "    </tr>\n",
       "    <tr>\n",
       "      <th>9</th>\n",
       "      <td>9.0</td>\n",
       "      <td>1000.000003</td>\n",
       "      <td>4.925313</td>\n",
       "      <td>4.370622</td>\n",
       "      <td>4.095761</td>\n",
       "      <td>NaN</td>\n",
       "    </tr>\n",
       "  </tbody>\n",
       "</table>\n",
       "</div>"
      ],
      "text/plain": [
       "   Frame    Time (ns)  Backbone      CORE       LID  NMP\n",
       "0    0.0   100.000000  0.000001  0.000001  0.000001  NaN\n",
       "1    1.0   200.000001  2.346296  2.149729  1.675609  NaN\n",
       "2    2.0   300.000001  2.906242  2.331422  1.837289  NaN\n",
       "3    3.0   400.000001  3.840399  3.085732  3.280397  NaN\n",
       "4    4.0   500.000001  3.977046  2.188365  2.392543  NaN\n",
       "5    5.0   600.000002  4.353016  3.085668  3.404694  NaN\n",
       "6    6.0   700.000002  4.481059  3.064473  3.115445  NaN\n",
       "7    7.0   800.000002  4.307486  3.992661  3.394916  NaN\n",
       "8    8.0   900.000003  4.786702  4.524129  3.722748  NaN\n",
       "9    9.0  1000.000003  4.925313  4.370622  4.095761  NaN"
      ]
     },
     "execution_count": 7,
     "metadata": {},
     "output_type": "execute_result"
    }
   ],
   "source": [
    "df = pd.DataFrame(R.rmsd,df_charge = pd.DataFrame(R_charge.rmsd,\n",
    "                         columns=['Frame',\n",
    "                                'Time (ns)',\n",
    "                                'C-alphas', 'CORE',\n",
    "                                'LID', 'NMP'])\n",
    "ax_charge = df_charge.plot(x='Frame',\n",
    "                           y=['C-alphas', 'CORE', 'LID', 'NMP'])\n",
    "ax_charge.set_ylabel('Charge-weighted RMSD ($\\AA$)')\n",
    "                  columns=['Frame', 'Time (ns)',\n",
    "                           'Backbone', 'CORE',\n",
    "                           'LID', 'NMP'])\n",
    "\n",
    "df"
   ]
  },
  {
   "cell_type": "code",
   "execution_count": 8,
   "metadata": {},
   "outputs": [
    {
     "data": {
      "text/plain": [
       "Text(0, 0.5, 'RMSD ($\\\\AA$)')"
      ]
     },
     "execution_count": 8,
     "metadata": {},
     "output_type": "execute_result"
    },
    {
     "data": {
      "image/png": "[encoded data removed]",
      "text/plain": [
       "<Figure size 432x288 with 1 Axes>"
      ]
     },
     "metadata": {
      "needs_background": "light"
     },
     "output_type": "display_data"
    }
   ],
   "source": [
    "ax = df.plot(x='Frame', y=['Backbone', 'CORE', 'LID', 'NMP'],\n",
    "             kind='line')\n",
    "ax.set_ylabel(r'RMSD ($\\AA$)')df_charge = pd.DataFrame(R_charge.rmsd,\n",
    "                         columns=['Frame',\n",
    "                                'Time (ns)',\n",
    "                                'C-alphas', 'CORE',\n",
    "                                'LID', 'NMP'])\n",
    "ax_charge = df_charge.plot(x='Frame',\n",
    "                           y=['C-alphas', 'CORE', 'LID', 'NMP'])\n",
    "ax_charge.set_ylabel('Charge-weighted RMSD ($\\AA$)')"
   ]
  },
  {
   "cell_type": "markdown",
   "metadata": {},
   "source": [
    "# RMSD of an atom grop within a trajectory"
   ]
  },
  {
   "cell_type": "code",
   "execution_count": 9,
   "metadata": {},
   "outputs": [
    {
     "data": {
      "text/plain": [
       "<MDAnalysis.analysis.rms.RMSD at 0x7fef56d5c100>"
      ]
     },
     "execution_count": 9,
     "metadata": {},
     "output_type": "execute_result"
    }
   ],
   "source": [
    "ca = u.select_atoms('name CA')\n",
    "\n",
    "R = rms.RMSD(ca, ca, select=CORE, ref_frame=0)\n",
    "R.run()"
   ]
  },
  {
   "cell_type": "code",
   "execution_count": 10,
   "metadata": {},
   "outputs": [
    {
     "data": {
      "text/plain": [
       "Text(0, 0.5, 'RMSD ($\\\\AA$)')"
      ]
     },
     "execution_count": 10,
     "metadata": {},
     "output_type": "execute_result"
    },
    {
     "data": {
      "image/png": "[encoded data removed]",
      "text/plain": [
       "<Figure size 432x288 with 1 Axes>"
      ]
     },
     "metadata": {
      "needs_background": "light"
     },
     "output_type": "display_data"
    }
   ],
   "source": [
    "df = pd.DataFrame(R.rmsd,\n",
    "                  columns=['Frame', 'Time (ns)',df_charge = pd.DataFrame(R_charge.rmsd,\n",
    "                         columns=['Frame',\n",
    "                                'Time (ns)',\n",
    "                                'C-alphas', 'CORE',\n",
    "                                'LID', 'NMP'])\n",
    "ax_charge = df_charge.plot(x='Frame',\n",
    "                           y=['C-alphas', 'CORE', 'LID', 'NMP'])\n",
    "ax_charge.set_ylabel('Charge-weighted RMSD ($\\AA$)')\n",
    "                           'CORE'])\n",
    "\n",
    "ax = df.plot(x='Frame', y='CORE', kind='line')\n",
    "ax.set_ylabel('RMSD ($\\AA$)')"
   ]
  },
  {
   "cell_type": "markdown",
   "metadata": {},
   "source": [
    "# weighted Average"
   ]
  },
  {
   "cell_type": "code",
   "execution_count": 11,
   "metadata": {},
   "outputs": [
    {
     "name": "stderr",
     "output_type": "stream",
     "text": [
      "/home/alaooj/anaconda3/lib/python3.8/site-packages/numpy/core/fromnumeric.py:3334: RuntimeWarning: Mean of empty slice.\n",
      "  return _methods._mean(a, axis=axis, dtype=dtype,\n",
      "/home/alaooj/anaconda3/lib/python3.8/site-packages/numpy/core/_methods.py:161: RuntimeWarning: invalid value encountered in double_scalars\n",
      "  ret = ret.dtype.type(ret / rcount)\n",
      "/home/alaooj/anaconda3/lib/python3.8/site-packages/MDAnalysis/analysis/rms.py:252: RuntimeWarning: invalid value encountered in double_scalars\n",
      "  return np.sqrt(np.sum(weights[:, np.newaxis]\n"
     ]
    },
    {
     "data": {
      "text/plain": [
       "<MDAnalysis.analysis.rms.RMSD at 0x7fef56d645b0>"
      ]
     },
     "execution_count": 11,
     "metadata": {},
     "output_type": "execute_result"
    }
   ],
   "source": [
    "R_mass = rms.RMSD(u, u,\n",
    "                  select='protein and name CA',\n",
    "                  weights='mass',\n",
    "                  groupselections=[CORE, LID, NMP])\n",
    "R_mass.run()"
   ]
  },
  {
   "cell_type": "code",
   "execution_count": 12,
   "metadata": {},
   "outputs": [
    {
     "data": {
      "image/png": "[encoded data removed]",
      "text/plain": [
       "<Figure size 432x288 with 1 Axes>"
      ]
     },
     "metadata": {
      "needs_background": "light"
     },
     "output_type": "display_data"
    }
   ],
   "source": [
    "df_mass = pd.DataFrame(R_mass.rmsd,\n",
    "                       columns=['Frame',\n",
    "                                'Time (ns)',\n",
    "                                'C-alphas', 'CORE',\n",
    "                                'LID', 'NMP'])\n",
    "ax_mass = df_mass.plot(x='Frame',\n",
    "                       y=['C-alphas', 'CORE', 'LID', 'NMP'])\n",
    "ax_mass.set_ylabel('Mass-weighted RMSD ($\\AA$)');"
   ]
  },
  {
   "cell_type": "markdown",
   "metadata": {},
   "source": [
    "# custom weight. Ignoe, its not conventional"
   ]
  },
  {
   "cell_type": "code",
   "execution_count": 13,
   "metadata": {},
   "outputs": [
    {
     "name": "stdout",
     "output_type": "stream",
     "text": [
      "Shape of C-alpha charges: (1322,)\n"
     ]
    }
   ],
   "source": [
    "ag = u.select_atoms('protein and name CA')\n",
    "print('Shape of C-alpha charges:', ag.charges.shape)\n",
    "core = u.select_atoms(CORE)\n",
    "lid = u.select_atoms(LID)\n",
    "nmp = u.select_atoms(NMP)"
   ]
  },
  {
   "cell_type": "code",
   "execution_count": null,
   "metadata": {},
   "outputs": [],
   "source": []
  },
  {
   "cell_type": "code",
   "execution_count": 16,
   "metadata": {},
   "outputs": [],
   "source": [
    "R_charge = rms.RMSD(u, u,\n",
    "                    select='protein and name CA',\n",
    "                    groupselections=[CORE, LID, NMP],\n",
    "                    weights=ag.resids,\n",
    "                    weights_groupselections=[core.resids,\n",
    "                                             lid.resids,\n",
    "                                             nmp.resids])"
   ]
  },
  {
   "cell_type": "code",
   "execution_count": 17,
   "metadata": {},
   "outputs": [
    {
     "ename": "AttributeError",
     "evalue": "'RMSD' object has no attribute 'rmsd'",
     "output_type": "error",
     "traceback": [
      "\u001b[0;31m---------------------------------------------------------------------------\u001b[0m",
      "\u001b[0;31mAttributeError\u001b[0m                            Traceback (most recent call last)",
      "\u001b[0;32m<ipython-input-17-aa70a7f0ff29>\u001b[0m in \u001b[0;36m<module>\u001b[0;34m\u001b[0m\n\u001b[0;32m----> 1\u001b[0;31m df_charge = pd.DataFrame(R_charge.rmsd,\n\u001b[0m\u001b[1;32m      2\u001b[0m                          columns=['Frame',\n\u001b[1;32m      3\u001b[0m                                 \u001b[0;34m'Time (ns)'\u001b[0m\u001b[0;34m,\u001b[0m\u001b[0;34m\u001b[0m\u001b[0;34m\u001b[0m\u001b[0m\n\u001b[1;32m      4\u001b[0m                                 \u001b[0;34m'C-alphas'\u001b[0m\u001b[0;34m,\u001b[0m \u001b[0;34m'CORE'\u001b[0m\u001b[0;34m,\u001b[0m\u001b[0;34m\u001b[0m\u001b[0;34m\u001b[0m\u001b[0m\n\u001b[1;32m      5\u001b[0m                                 'LID', 'NMP'])\n",
      "\u001b[0;31mAttributeError\u001b[0m: 'RMSD' object has no attribute 'rmsd'"
     ]
    }
   ],
   "source": [
    "df_charge = pd.DataFrame(R_charge.rmsd,\n",
    "                         columns=['Frame',\n",
    "                                'Time (ns)',\n",
    "                                'C-alphas', 'CORE',\n",
    "                                'LID', 'NMP'])\n",
    "ax_charge = df_charge.plot(x='Frame',\n",
    "                           y=['C-alphas', 'CORE', 'LID', 'NMP'])\n",
    "ax_charge.set_ylabel('Charge-weighted RMSD ($\\AA$)')"
   ]
  },
  {
   "cell_type": "code",
   "execution_count": null,
   "metadata": {},
   "outputs": [],
   "source": []
  }
 ],
 "metadata": {
  "kernelspec": {
   "display_name": "Python 3",
   "language": "python",
   "name": "python3"
  },
  "language_info": {
   "codemirror_mode": {
    "name": "ipython",
    "version": 3
   },
   "file_extension": ".py",
   "mimetype": "text/x-python",
   "name": "python",
   "nbconvert_exporter": "python",
   "pygments_lexer": "ipython3",
   "version": "3.8.3"
  }
 },
 "nbformat": 4,
 "nbformat_minor": 4
}
